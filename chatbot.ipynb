{
 "cells": [
  {
   "cell_type": "code",
   "execution_count": null,
   "id": "539b8c2d",
   "metadata": {},
   "outputs": [
    {
     "name": "stderr",
     "output_type": "stream",
     "text": [
      "[nltk_data] Downloading package punkt to\n",
      "[nltk_data]     C:\\Users\\vsri6\\AppData\\Roaming\\nltk_data...\n",
      "[nltk_data]   Unzipping tokenizers\\punkt.zip.\n"
     ]
    },
    {
     "data": {
      "application/vnd.jupyter.widget-view+json": {
       "model_id": "6f489de9c5d5454fa7a82a73b79867ea",
       "version_major": 2,
       "version_minor": 0
      },
      "text/plain": [
       "config.json:   0%|          | 0.00/665 [00:00<?, ?B/s]"
      ]
     },
     "metadata": {},
     "output_type": "display_data"
    },
    {
     "name": "stderr",
     "output_type": "stream",
     "text": [
      "D:\\vyshu\\anaconda\\lib\\site-packages\\huggingface_hub\\file_download.py:139: UserWarning: `huggingface_hub` cache-system uses symlinks by default to efficiently store duplicated files but your machine does not support them in C:\\Users\\vsri6\\.cache\\huggingface\\hub\\models--gpt2. Caching files will still work but in a degraded version that might require more space on your disk. This warning can be disabled by setting the `HF_HUB_DISABLE_SYMLINKS_WARNING` environment variable. For more details, see https://huggingface.co/docs/huggingface_hub/how-to-cache#limitations.\n",
      "To support symlinks on Windows, you either need to activate Developer Mode or to run Python as an administrator. In order to activate developer mode, see this article: https://docs.microsoft.com/en-us/windows/apps/get-started/enable-your-device-for-development\n",
      "  warnings.warn(message)\n"
     ]
    },
    {
     "data": {
      "application/vnd.jupyter.widget-view+json": {
       "model_id": "84af9ceaeb124c4ea6fa0420a9d6c67c",
       "version_major": 2,
       "version_minor": 0
      },
      "text/plain": [
       "model.safetensors:   0%|          | 0.00/548M [00:00<?, ?B/s]"
      ]
     },
     "metadata": {},
     "output_type": "display_data"
    },
    {
     "data": {
      "application/vnd.jupyter.widget-view+json": {
       "model_id": "8269215e85f04e528f2cb7e84b01a4b0",
       "version_major": 2,
       "version_minor": 0
      },
      "text/plain": [
       "generation_config.json:   0%|          | 0.00/124 [00:00<?, ?B/s]"
      ]
     },
     "metadata": {},
     "output_type": "display_data"
    },
    {
     "data": {
      "application/vnd.jupyter.widget-view+json": {
       "model_id": "58bb3a1b0f7f42f1ba1761a7c009d3c8",
       "version_major": 2,
       "version_minor": 0
      },
      "text/plain": [
       "tokenizer_config.json:   0%|          | 0.00/26.0 [00:00<?, ?B/s]"
      ]
     },
     "metadata": {},
     "output_type": "display_data"
    },
    {
     "data": {
      "application/vnd.jupyter.widget-view+json": {
       "model_id": "47a364b30c7046d3a18cbebe89474177",
       "version_major": 2,
       "version_minor": 0
      },
      "text/plain": [
       "vocab.json:   0%|          | 0.00/1.04M [00:00<?, ?B/s]"
      ]
     },
     "metadata": {},
     "output_type": "display_data"
    },
    {
     "data": {
      "application/vnd.jupyter.widget-view+json": {
       "model_id": "ffe4eec37bb4449daf6bcd02d1bedfc1",
       "version_major": 2,
       "version_minor": 0
      },
      "text/plain": [
       "merges.txt:   0%|          | 0.00/456k [00:00<?, ?B/s]"
      ]
     },
     "metadata": {},
     "output_type": "display_data"
    },
    {
     "data": {
      "application/vnd.jupyter.widget-view+json": {
       "model_id": "fe54a53570af4278b931db448357dcdc",
       "version_major": 2,
       "version_minor": 0
      },
      "text/plain": [
       "tokenizer.json:   0%|          | 0.00/1.36M [00:00<?, ?B/s]"
      ]
     },
     "metadata": {},
     "output_type": "display_data"
    },
    {
     "name": "stderr",
     "output_type": "stream",
     "text": [
      "Device set to use cpu\n"
     ]
    },
    {
     "name": "stdout",
     "output_type": "stream",
     "text": [
      "Welcome to the SRM Ramapuram College Chatbot! Type 'quit' to exit.\n",
      "> hi\n",
      "Hi there! What can I do for you today?\n",
      "> tell me about college\n",
      "We offer hostels, libraries, labs, sports facilities, and more.\n",
      "> admission process\n",
      "You can apply through our official website under the 'Admissions' section.\n"
     ]
    }
   ],
   "source": [
    "import random\n",
    "import torch\n",
    "from transformers import pipeline\n",
    "from nltk import word_tokenize\n",
    "from nltk.classify import NaiveBayesClassifier\n",
    "from nltk.classify.util import accuracy\n",
    "\n",
    "# Download NLTK resources\n",
    "import nltk\n",
    "nltk.download('punkt')\n",
    "\n",
    "# Predefined responses for specific intents\n",
    "RESPONSES = {\n",
    "    \"greeting\": [\"Hello! How can I help you?\", \"Hi there! What can I do for you today?\"],\n",
    "    \"courses\": [\"We offer BTech, MTech, MBA, BBA, and PhD programs.\"],\n",
    "    \"departments\": [\"We have departments like Computer Science, Electronics, Mechanical, Civil, and more.\"],\n",
    "    \"admission\": [\"You can apply through our official website under the 'Admissions' section.\"],\n",
    "    \"facilities\": [\"We offer hostels, libraries, labs, sports facilities, and more.\"],\n",
    "    \"contact\": [\"You can reach us at +91-1234567890 or email us at info@srmramapuram.edu.\"],\n",
    "    \"default\": [\"I'm sorry, I don't have information on that. Could you ask something else?\"]\n",
    "}\n",
    "\n",
    "# Sample training data for intent classification\n",
    "TRAINING_DATA = [\n",
    "    (\"hello\", \"greeting\"),\n",
    "    (\"hi\", \"greeting\"),\n",
    "    (\"what courses do you offer\", \"courses\"),\n",
    "    (\"tell me about the courses\", \"courses\"),\n",
    "    (\"which departments are there\", \"departments\"),\n",
    "    (\"what departments do you have\", \"departments\"),\n",
    "    (\"how can I apply for admission\", \"admission\"),\n",
    "    (\"admission process\", \"admission\"),\n",
    "    (\"what facilities do you provide\", \"facilities\"),\n",
    "    (\"tell me about the facilities\", \"facilities\"),\n",
    "    (\"how can I contact the college\", \"contact\"),\n",
    "    (\"contact details\", \"contact\")\n",
    "]\n",
    "\n",
    "# Feature extraction function for the classifier\n",
    "def extract_features(sentence):\n",
    "    words = word_tokenize(sentence.lower())\n",
    "    return {word: True for word in words}\n",
    "\n",
    "# Prepare the dataset\n",
    "feature_sets = [(extract_features(text), label) for (text, label) in TRAINING_DATA]\n",
    "\n",
    "# Train a Naive Bayes Classifier\n",
    "classifier = NaiveBayesClassifier.train(feature_sets)\n",
    "\n",
    "# Pre-trained language model for dynamic responses\n",
    "qa_pipeline = pipeline(\"text-generation\", model=\"gpt2\")\n",
    "\n",
    "# Chatbot function\n",
    "def chatbot_response(user_input):\n",
    "    # Classify the intent\n",
    "    features = extract_features(user_input)\n",
    "    intent = classifier.classify(features)\n",
    "\n",
    "    # Generate a response based on intent\n",
    "    if intent in RESPONSES:\n",
    "        return random.choice(RESPONSES[intent])\n",
    "    else:\n",
    "        # For unknown intents, use the language model to generate a response\n",
    "        generated_response = qa_pipeline(user_input, max_length=50, num_return_sequences=1)\n",
    "        return generated_response[0]['generated_text']\n",
    "\n",
    "# Conversation loop\n",
    "print(\"Welcome to the SRM Ramapuram College Chatbot! Type 'quit' to exit.\")\n",
    "while True:\n",
    "    user_input = input(\"> \")\n",
    "    if user_input.lower() == 'quit':\n",
    "        print(\"Goodbye!\")\n",
    "        break\n",
    "    response = chatbot_response(user_input)\n",
    "    print(response)\n"
   ]
  },
  {
   "cell_type": "code",
   "execution_count": null,
   "id": "fc08b72b",
   "metadata": {},
   "outputs": [],
   "source": []
  }
 ],
 "metadata": {
  "kernelspec": {
   "display_name": "Python 3 (ipykernel)",
   "language": "python",
   "name": "python3"
  },
  "language_info": {
   "codemirror_mode": {
    "name": "ipython",
    "version": 3
   },
   "file_extension": ".py",
   "mimetype": "text/x-python",
   "name": "python",
   "nbconvert_exporter": "python",
   "pygments_lexer": "ipython3",
   "version": "3.9.13"
  }
 },
 "nbformat": 4,
 "nbformat_minor": 5
}
